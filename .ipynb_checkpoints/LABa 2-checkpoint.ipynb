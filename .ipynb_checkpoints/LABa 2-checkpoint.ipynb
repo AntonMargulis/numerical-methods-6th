{
 "cells": [
  {
   "cell_type": "code",
   "execution_count": 1,
   "metadata": {},
   "outputs": [],
   "source": [
    "import numpy as np"
   ]
  },
  {
   "cell_type": "code",
   "execution_count": 8,
   "metadata": {},
   "outputs": [],
   "source": [
    "a = np.array(\n",
    "    [[6, 3, 0, 0, 0, 0], \n",
    "     [-9, -17, 3, 0, 0, -99], \n",
    "     [0, -3, 12, -7, 0, -107], \n",
    "     [0, 0, 2, -9, -6, 5], \n",
    "     [0, 0, 0, -4, 5, -6]\n",
    "    ]\n",
    ").astype(np.float64)"
   ]
  },
  {
   "cell_type": "code",
   "execution_count": 3,
   "metadata": {},
   "outputs": [],
   "source": [
    "def reverse_arr(z):\n",
    "    z.reverse()\n",
    "    return z"
   ]
  },
  {
   "cell_type": "code",
   "execution_count": 4,
   "metadata": {},
   "outputs": [],
   "source": [
    "def running_coef(x):\n",
    "    P = []\n",
    "    for i in range(len(x)):\n",
    "        if (i == 0):\n",
    "            P.append(-x[i][i + 1] / x[i][i])\n",
    "        elif (i == len(x) - 1):\n",
    "            P.append(0)\n",
    "        else:\n",
    "            P.append(-x[i][i + 1] / (x[i][i] + x[i][i - 1] * P[-1]))\n",
    "    Q = []\n",
    "    for i in range(len(x)):\n",
    "        if (i == 0):\n",
    "            Q.append(x[i][-1] / x[i][i])\n",
    "        else:\n",
    "            Q.append((x[i][-1] - x[i][i - 1] * Q[-1]) / (x[i][i] + x[i][i - 1] * P[i - 1]))\n",
    "    X = []\n",
    "    for i in range(len(x) - 1, -1, -1):\n",
    "        if (i == len(x) - 1):\n",
    "            X.append(Q[i])\n",
    "        else:\n",
    "            X.append(P[i] * X[-1] + Q[i])\n",
    "    reverse_arr(X)\n",
    "    print(P)\n",
    "    print(Q)\n",
    "    for i in range(len(X)):\n",
    "        print(\"x\", i + 1, \" = \", X[i], sep = \"\")\n",
    "    return X"
   ]
  },
  {
   "cell_type": "code",
   "execution_count": 5,
   "metadata": {
    "scrolled": true
   },
   "outputs": [
    {
     "name": "stdout",
     "output_type": "stream",
     "text": [
      "[-0.5, 0.24, 0.6205673758865249, -0.773308957952468, 0]\n",
      "[0.0, 7.92, -7.379432624113476, -2.5466179159049367, -2.0000000000000004]\n",
      "x1 = -3.0\n",
      "x2 = 6.0\n",
      "x3 = -8.000000000000002\n",
      "x4 = -1.0000000000000002\n",
      "x5 = -2.0000000000000004\n"
     ]
    }
   ],
   "source": [
    "X = running_coef(a)"
   ]
  },
  {
   "cell_type": "code",
   "execution_count": 6,
   "metadata": {},
   "outputs": [
    {
     "data": {
      "text/plain": [
       "[-3.0, 6.0, -8.000000000000002, -1.0000000000000002, -2.0000000000000004]"
      ]
     },
     "execution_count": 6,
     "metadata": {},
     "output_type": "execute_result"
    }
   ],
   "source": [
    "X"
   ]
  },
  {
   "cell_type": "code",
   "execution_count": null,
   "metadata": {},
   "outputs": [],
   "source": []
  },
  {
   "cell_type": "code",
   "execution_count": 10,
   "metadata": {},
   "outputs": [],
   "source": [
    "summ = np.zeros(len(a))\n",
    "for i in range(len(a)):\n",
    "    for j in range(len(a)):\n",
    "        if i != j:\n",
    "            summ[i] += a[i][j]\n",
    "            "
   ]
  },
  {
   "cell_type": "code",
   "execution_count": null,
   "metadata": {},
   "outputs": [],
   "source": []
  }
 ],
 "metadata": {
  "kernelspec": {
   "display_name": "Python 3",
   "language": "python",
   "name": "python3"
  },
  "language_info": {
   "codemirror_mode": {
    "name": "ipython",
    "version": 3
   },
   "file_extension": ".py",
   "mimetype": "text/x-python",
   "name": "python",
   "nbconvert_exporter": "python",
   "pygments_lexer": "ipython3",
   "version": "3.6.8"
  }
 },
 "nbformat": 4,
 "nbformat_minor": 2
}
