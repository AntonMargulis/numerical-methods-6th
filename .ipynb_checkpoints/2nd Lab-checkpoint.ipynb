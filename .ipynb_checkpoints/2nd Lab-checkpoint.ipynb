{
 "cells": [
  {
   "cell_type": "markdown",
   "metadata": {},
   "source": [
    "# лабораторная работа №2\n",
    "метод прогонки вариант №6"
   ]
  },
  {
   "cell_type": "code",
   "execution_count": 51,
   "metadata": {},
   "outputs": [],
   "source": [
    "import numpy as np"
   ]
  },
  {
   "cell_type": "code",
   "execution_count": 52,
   "metadata": {},
   "outputs": [
    {
     "name": "stdout",
     "output_type": "stream",
     "text": [
      "[[  6   3   0   0   0]\n",
      " [ -9 -17   3   0   0]\n",
      " [  0  -3  12  -7   0]\n",
      " [  0   0   2  -9  -6]\n",
      " [  0   0   0  -4   5]] \n",
      "\n",
      " [[   0]\n",
      " [ -99]\n",
      " [-107]\n",
      " [   5]\n",
      " [  -6]]\n"
     ]
    }
   ],
   "source": [
    "A = np.array([\n",
    "    [ 6,  3,  0,  0,  0],\n",
    "    [-9, -17, 3,  0,  0],\n",
    "    [ 0, -3, 12, -7,  0],\n",
    "    [ 0,  0,  2, -9, -6],\n",
    "    [ 0,  0,  0, -4,  5],\n",
    "])\n",
    "D = np.array([\n",
    "    [   0],\n",
    "    [ -99],\n",
    "    [-107],\n",
    "    [   5],\n",
    "    [  -6]\n",
    "])\n",
    "print(A, '\\n\\n', D)"
   ]
  },
  {
   "cell_type": "code",
   "execution_count": 53,
   "metadata": {},
   "outputs": [
    {
     "name": "stdout",
     "output_type": "stream",
     "text": [
      "[0. 0. 0. 0. 0.]\n",
      "[0. 0. 0. 0. 0.]\n",
      "4\n",
      "[0. 0. 0. 0. 0.]\n"
     ]
    }
   ],
   "source": [
    "Ps = np.zeros((len(A)))\n",
    "Qs = np.zeros((len(A)))\n",
    "size = len(A)-1\n",
    "Xs = np.zeros((len(A)))\n",
    "print(Ps, '\\n', Qs, '\\n', size, '\\n', Xs, sep='')"
   ]
  },
  {
   "cell_type": "code",
   "execution_count": 54,
   "metadata": {},
   "outputs": [],
   "source": [
    "def P_vector(x, P):\n",
    "#     Ps[0] = -A[0][1]/A[0][0]\n",
    "#     for i in range(1, size):\n",
    "#         Ps[i] = -A[i][i+1]/(A[i][i]+A[i][i-1]*Ps[i-1])\n",
    "#     Ps[size] = 0\n",
    "\n",
    "    for i in range(len(x)):\n",
    "        if (i == 0):\n",
    "            P.append(-x[i][i + 1] / x[i][i])\n",
    "        elif (i == len(x) - 1):\n",
    "            P.append(0)\n",
    "        else:\n",
    "            P.append(-x[i][i + 1] / (x[i][i] + x[i][i - 1] * P[-1]))\n",
    "    \n",
    "    print('  '.join(map(str, Ps)))\n",
    "    return Ps"
   ]
  },
  {
   "cell_type": "code",
   "execution_count": 55,
   "metadata": {},
   "outputs": [],
   "source": [
    "def Q_vector(A, D, Qs):\n",
    "#     Qs[0] = D[0]/A[0][0]\n",
    "#     for i in range(1, size+1):\n",
    "#         Qs[i] = (D[i]-A[i][i-1]*Qs[i-1])/(A[i][i]+A[i][i-1]*Ps[i-1])\n",
    "#     Qs[size] = (D[size]-A[size][size-1]*Qs[size-1])/(A[size][size]+A[size][size-1]*Ps[size-1])\n",
    "#     print('  '.join(map(str, Qs)))\n",
    "    \n",
    "    for i in range(len(x)):\n",
    "        if (i == 0):\n",
    "            Q.append(x[i][-1] / x[i][i])\n",
    "        else:\n",
    "            Q.append((x[i][-1] - x[i][i - 1] * Q[-1]) / (x[i][i] + x[i][i - 1] * P[i - 1]))\n",
    "    return Qs"
   ]
  },
  {
   "cell_type": "code",
   "execution_count": 56,
   "metadata": {},
   "outputs": [],
   "source": [
    "def X_vector(Ps, Qs):\n",
    "    Xs[size] = Qs[size]\n",
    "    for i in range(3, -1, -1):\n",
    "        Xs[i] = Ps[i]*Xs[i+1]+Qs[i]\n",
    "    print(Xs)\n",
    "    return Xs"
   ]
  },
  {
   "cell_type": "code",
   "execution_count": 57,
   "metadata": {},
   "outputs": [
    {
     "name": "stdout",
     "output_type": "stream",
     "text": [
      "-0.5  0.24  0.6205673758865249  -0.773308957952468  0.0\n",
      "0.0  7.92  -7.379432624113476  -2.5466179159049367  -2.0000000000000004\n",
      "[-3.  6. -8. -1. -2.]\n"
     ]
    }
   ],
   "source": [
    "Ps = P_vector(A, Ps)\n",
    "Qs = Q_vector(A, D, Qs)\n",
    "Xs = X_vector(Ps, Qs)"
   ]
  },
  {
   "cell_type": "code",
   "execution_count": 58,
   "metadata": {},
   "outputs": [],
   "source": [
    "def check(A, Xs):\n",
    "    checkD = np.zeros(len(A))\n",
    "    for i in range(len(A)):\n",
    "        for j in range(len(A)):\n",
    "            checkD[i] = checkD[i] + Xs[j]*A[i][j]\n",
    "    checkD\n",
    "    for i in range(len(A)):\n",
    "        print(round(checkD[i]), '\\t', D[i][0])"
   ]
  },
  {
   "cell_type": "code",
   "execution_count": 63,
   "metadata": {},
   "outputs": [
    {
     "name": "stdout",
     "output_type": "stream",
     "text": [
      "0.0 \t 0\n",
      "-99.0 \t -99\n",
      "-107.0 \t -107\n",
      "5.0 \t 5\n",
      "-6.0 \t -6\n"
     ]
    }
   ],
   "source": [
    "check(A, Xs)"
   ]
  },
  {
   "cell_type": "code",
   "execution_count": 64,
   "metadata": {},
   "outputs": [
    {
     "data": {
      "text/plain": [
       "array([[  6,   3,   0,   0,   0],\n",
       "       [ -9, -17,   3,   0,   0],\n",
       "       [  0,  -3,  12,  -7,   0],\n",
       "       [  0,   0,   2,  -9,  -6],\n",
       "       [  0,   0,   0,  -4,   5]])"
      ]
     },
     "execution_count": 64,
     "metadata": {},
     "output_type": "execute_result"
    }
   ],
   "source": [
    "newA = A.copy()\n",
    "newA"
   ]
  },
  {
   "cell_type": "code",
   "execution_count": 65,
   "metadata": {},
   "outputs": [],
   "source": [
    "for i in range(len(newA)-1):\n",
    "    tmp = newA[i][i]\n",
    "    newA[i][i] = newA[i][i+1]\n",
    "    newA[i][i+1] = tmp"
   ]
  },
  {
   "cell_type": "code",
   "execution_count": 66,
   "metadata": {},
   "outputs": [
    {
     "data": {
      "text/plain": [
       "array([[  3,   6,   0,   0,   0],\n",
       "       [ -9,   3, -17,   0,   0],\n",
       "       [  0,  -3,  -7,  12,   0],\n",
       "       [  0,   0,   2,  -6,  -9],\n",
       "       [  0,   0,   0,  -4,   5]])"
      ]
     },
     "execution_count": 66,
     "metadata": {},
     "output_type": "execute_result"
    }
   ],
   "source": [
    "newA"
   ]
  },
  {
   "cell_type": "code",
   "execution_count": 67,
   "metadata": {},
   "outputs": [
    {
     "name": "stdout",
     "output_type": "stream",
     "text": [
      "[0. 0. 0. 0. 0.]\n",
      "[0. 0. 0. 0. 0.]\n",
      "4\n",
      "[0. 0. 0. 0. 0.]\n"
     ]
    }
   ],
   "source": [
    "newPs = np.zeros((len(newA)))\n",
    "newQs = np.zeros((len(newA)))\n",
    "size = len(newA)-1\n",
    "newXs = np.zeros((len(newA)))\n",
    "print(newPs, '\\n', newQs, '\\n', size, '\\n', newXs, sep='')"
   ]
  },
  {
   "cell_type": "code",
   "execution_count": 68,
   "metadata": {},
   "outputs": [
    {
     "name": "stdout",
     "output_type": "stream",
     "text": [
      "-2.0  0.8095238095238095  1.2727272727272727  -2.6052631578947367  0.0\n",
      "0.0  -13.2  18.989637305699482  6.930071118043598  2.6837577606233096\n",
      "[-4.21773195  2.10886598 18.91095209 -0.0618241   2.68375776]\n"
     ]
    }
   ],
   "source": [
    "newPs = P_vector(newA, newPs)\n",
    "newQs = Q_vector(newA, D, newQs)\n",
    "newXs = X_vector(newPs, newQs)"
   ]
  },
  {
   "cell_type": "code",
   "execution_count": 70,
   "metadata": {},
   "outputs": [
    {
     "name": "stdout",
     "output_type": "stream",
     "text": [
      "0.0 \t 0\n",
      "-277.0 \t -99\n",
      "-139.0 \t -107\n",
      "14.0 \t 5\n",
      "14.0 \t -6\n"
     ]
    }
   ],
   "source": [
    "check(newA, newXs)"
   ]
  },
  {
   "cell_type": "code",
   "execution_count": null,
   "metadata": {},
   "outputs": [],
   "source": []
  },
  {
   "cell_type": "code",
   "execution_count": null,
   "metadata": {},
   "outputs": [],
   "source": []
  }
 ],
 "metadata": {
  "kernelspec": {
   "display_name": "Python 3",
   "language": "python",
   "name": "python3"
  },
  "language_info": {
   "codemirror_mode": {
    "name": "ipython",
    "version": 3
   },
   "file_extension": ".py",
   "mimetype": "text/x-python",
   "name": "python",
   "nbconvert_exporter": "python",
   "pygments_lexer": "ipython3",
   "version": "3.6.8"
  }
 },
 "nbformat": 4,
 "nbformat_minor": 2
}
