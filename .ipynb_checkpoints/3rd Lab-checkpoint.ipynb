{
 "cells": [
  {
   "cell_type": "code",
   "execution_count": 6,
   "metadata": {},
   "outputs": [],
   "source": [
    "import numpy as np"
   ]
  },
  {
   "cell_type": "code",
   "execution_count": 17,
   "metadata": {},
   "outputs": [],
   "source": [
    "a = np.array([[22, -3, -8, 7, -158], \n",
    "              [-8, -22, -4, -8, 254],\n",
    "              [8, -2, -18, 2, -108], \n",
    "              [7, 2, -9, -24, -24]]\n",
    "            ).astype(np.float64)\n",
    "eps = 0.001"
   ]
  },
  {
   "cell_type": "code",
   "execution_count": 18,
   "metadata": {},
   "outputs": [],
   "source": [
    "def it_method(x, eps):\n",
    "    a = -x[:, :len(x[0]) - 1]\n",
    "    b = x[:, -1]\n",
    "    for i in range(len(x)):\n",
    "        b[i] /= -a[i][i]\n",
    "        a[i] /= -a[i][i]\n",
    "        a[i][i] = 0\n",
    "    boof = 0\n",
    "    new_x = b\n",
    "    it = 0\n",
    "    while(42):\n",
    "        it += 1\n",
    "        z = np.zeros(len(x))\n",
    "        for i in range(len(x)):\n",
    "            for j in range(len(new_x)):\n",
    "                z[i] += a[i][j] * new_x[j]\n",
    "            z[i] += b[i]\n",
    "        d = 0\n",
    "        for i in range(len(z)):\n",
    "            if (abs(z[i] - new_x[i]) < eps):\n",
    "                d += 1\n",
    "        boof = new_x\n",
    "        new_x = z\n",
    "        if (d == len(z)): break\n",
    "    print(new_x)"
   ]
  },
  {
   "cell_type": "code",
   "execution_count": 19,
   "metadata": {},
   "outputs": [
    {
     "name": "stdout",
     "output_type": "stream",
     "text": [
      "[-6.00016027 -9.00033005  4.00016389 -2.99980739]\n"
     ]
    }
   ],
   "source": [
    "it_method(a, eps)"
   ]
  },
  {
   "cell_type": "code",
   "execution_count": 20,
   "metadata": {},
   "outputs": [],
   "source": [
    "a1 = np.array([[22, -3, -8, 7, -158], \n",
    "              [-8, -22, -4, -8, 254], \n",
    "              [8, -2, -18, 2, -108], \n",
    "              [7, 2, -9, -24, -24]]\n",
    "            ).astype(np.float64)"
   ]
  },
  {
   "cell_type": "code",
   "execution_count": 21,
   "metadata": {},
   "outputs": [],
   "source": [
    "def Seidel_method(x, eps):\n",
    "    a = x[:, :len(x[0]) - 1]\n",
    "    b = x[:, -1]\n",
    "    a = a.T\n",
    "    c = a.dot(a.T)\n",
    "    d = np.zeros(len(b))\n",
    "    for i in range(len(b)):\n",
    "        for j in range(len(a[i])):\n",
    "            d[i] += b[j] * a[i][j]\n",
    "    a = a.T\n",
    "    for i in range(len(c)):\n",
    "        d[i] /= c[i][i]\n",
    "        c[i] /= c[i][i]\n",
    "        c[i][i] = 0  \n",
    "    boof = 0\n",
    "    new_x = b\n",
    "    it = 0\n",
    "    while(42):\n",
    "        it += 1\n",
    "        z = np.zeros(len(x))\n",
    "        for i in range(len(x)):\n",
    "            for j in range(len(new_x)):\n",
    "                z[i] -= c[i][j] * new_x[j]\n",
    "            z[i] += d[i]\n",
    "        f = 0\n",
    "        for i in range(len(z)):\n",
    "            if (abs(z[i] - new_x[i]) < eps):\n",
    "                f += 1\n",
    "        boof = new_x\n",
    "        new_x = z\n",
    "        if (f == len(z)): break\n",
    "    print(new_x)"
   ]
  },
  {
   "cell_type": "code",
   "execution_count": 22,
   "metadata": {},
   "outputs": [
    {
     "name": "stdout",
     "output_type": "stream",
     "text": [
      "[-6.00260878 -8.99847557  3.99673397 -2.99904964]\n"
     ]
    }
   ],
   "source": [
    "Seidel_method(a1, eps)"
   ]
  },
  {
   "cell_type": "code",
   "execution_count": null,
   "metadata": {
    "collapsed": true
   },
   "outputs": [],
   "source": []
  }
 ],
 "metadata": {
  "kernelspec": {
   "display_name": "Python 3",
   "language": "python",
   "name": "python3"
  },
  "language_info": {
   "codemirror_mode": {
    "name": "ipython",
    "version": 3
   },
   "file_extension": ".py",
   "mimetype": "text/x-python",
   "name": "python",
   "nbconvert_exporter": "python",
   "pygments_lexer": "ipython3",
   "version": "3.6.8"
  }
 },
 "nbformat": 4,
 "nbformat_minor": 2
}
