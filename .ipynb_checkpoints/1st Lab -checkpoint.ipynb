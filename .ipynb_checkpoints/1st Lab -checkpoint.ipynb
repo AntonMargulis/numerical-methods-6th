{
 "cells": [
  {
   "cell_type": "markdown",
   "metadata": {},
   "source": [
    "# лабораторная работа №1 \n",
    "метод гаусса вариант №6"
   ]
  },
  {
   "cell_type": "code",
   "execution_count": 50,
   "metadata": {},
   "outputs": [],
   "source": [
    "import numpy as np"
   ]
  },
  {
   "cell_type": "code",
   "execution_count": 51,
   "metadata": {},
   "outputs": [
    {
     "name": "stdout",
     "output_type": "stream",
     "text": [
      "[[-5  2  4 -4]\n",
      " [ 4  9 -7 -5]\n",
      " [ 0 -5  6  7]\n",
      " [ 4  8 -6 -6]] \n",
      "\n",
      " [[ 57]\n",
      " [-23]\n",
      " [ 23]\n",
      " [-20]]\n"
     ]
    }
   ],
   "source": [
    "A = np.array([[-5, 2, 4, -4], \n",
    "              [4, 9, -7, -5], \n",
    "              [0, -5, 6, 7], \n",
    "              [4, 8, -6, -6]])\n",
    "B = np.array([[57], \n",
    "              [-23], \n",
    "              [23], \n",
    "              [-20]])\n",
    "print(A, '\\n\\n', B)"
   ]
  },
  {
   "cell_type": "code",
   "execution_count": 52,
   "metadata": {},
   "outputs": [],
   "source": [
    "for i in range(len(A)-1):\n",
    "    for j in range(i+1, len(A)):\n",
    "        k = -A[j][i]/A[i][i]\n",
    "        A[j] = (A[i]*k)+A[j]"
   ]
  },
  {
   "cell_type": "code",
   "execution_count": 53,
   "metadata": {},
   "outputs": [
    {
     "name": "stdout",
     "output_type": "stream",
     "text": [
      "[[-5  2  4 -4]\n",
      " [ 0 10 -3 -8]\n",
      " [ 0  0  4  3]\n",
      " [ 0  0  0 -1]] \n",
      "\n",
      " [[ 57]\n",
      " [-23]\n",
      " [ 23]\n",
      " [-20]]\n"
     ]
    }
   ],
   "source": [
    "print(A, '\\n\\n', B)"
   ]
  },
  {
   "cell_type": "code",
   "execution_count": 54,
   "metadata": {},
   "outputs": [
    {
     "name": "stdout",
     "output_type": "stream",
     "text": [
      "[[0. 0. 0. 0.]]\n"
     ]
    }
   ],
   "source": [
    "xs = np.zeros((1, 4))\n",
    "print(xs)"
   ]
  },
  {
   "cell_type": "code",
   "execution_count": 55,
   "metadata": {},
   "outputs": [],
   "source": [
    "tempA = np.array([[-5,  2,  4, -4],\n",
    "                  [ 0, 10, -3, -8],\n",
    "                  [ 0,  0,  4,  3],\n",
    "                  [ 0,  0,  0, -1]])\n",
    "tempB = np.array([[ 57], \n",
    "                  [-23], \n",
    "                  [23], \n",
    "                  [-20]])"
   ]
  },
  {
   "cell_type": "code",
   "execution_count": 56,
   "metadata": {},
   "outputs": [
    {
     "data": {
      "text/plain": [
       "array([[-30.43 ],\n",
       "       [ 10.925],\n",
       "       [ -9.25 ],\n",
       "       [ 20.   ]])"
      ]
     },
     "execution_count": 56,
     "metadata": {},
     "output_type": "execute_result"
    }
   ],
   "source": [
    "solve = np.linalg.solve(tempA, tempB)\n",
    "solve"
   ]
  },
  {
   "cell_type": "code",
   "execution_count": 57,
   "metadata": {},
   "outputs": [
    {
     "name": "stdout",
     "output_type": "stream",
     "text": [
      "x1 = -30.4\n",
      "x2 = 11.0\n",
      "x3 = -9.25\n",
      "x4 = 20.0\n"
     ]
    }
   ],
   "source": [
    "for i in range(len(tempA)-1, -1, -1):\n",
    "    xs[0][i] = tempB[i][0]/tempA[i][i]\n",
    "    for j in range(len(tempA)):\n",
    "        tempA[j][i] = tempA[j][i]*xs[0][i]\n",
    "        tempB[j][0] = tempB[j][0] - tempA[j][i]\n",
    "for i in range(len(xs[0])):\n",
    "    print('x', i+1, ' = ', xs[0][i], sep = '')"
   ]
  },
  {
   "cell_type": "code",
   "execution_count": null,
   "metadata": {},
   "outputs": [],
   "source": []
  }
 ],
 "metadata": {
  "kernelspec": {
   "display_name": "Python 3",
   "language": "python",
   "name": "python3"
  },
  "language_info": {
   "codemirror_mode": {
    "name": "ipython",
    "version": 3
   },
   "file_extension": ".py",
   "mimetype": "text/x-python",
   "name": "python",
   "nbconvert_exporter": "python",
   "pygments_lexer": "ipython3",
   "version": "3.6.8"
  }
 },
 "nbformat": 4,
 "nbformat_minor": 2
}
