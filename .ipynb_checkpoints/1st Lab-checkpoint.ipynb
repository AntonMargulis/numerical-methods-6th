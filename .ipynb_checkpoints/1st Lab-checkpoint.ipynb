{
 "cells": [
  {
   "cell_type": "markdown",
   "metadata": {},
   "source": [
    "# лабораторная работа №1 \n",
    "метод гаусса вариант №6"
   ]
  },
  {
   "cell_type": "code",
   "execution_count": 29,
   "metadata": {},
   "outputs": [],
   "source": [
    "import numpy as np"
   ]
  },
  {
   "cell_type": "code",
   "execution_count": 103,
   "metadata": {},
   "outputs": [
    {
     "name": "stdout",
     "output_type": "stream",
     "text": [
      "[[-5.  2.  4. -4.]\n",
      " [ 4.  9. -7. -5.]\n",
      " [ 0. -5.  6.  7.]\n",
      " [ 4.  8. -6. -6.]] \n",
      "\n",
      " [[ 57]\n",
      " [-23]\n",
      " [ 23]\n",
      " [-20]]\n"
     ]
    }
   ],
   "source": [
    "A = np.array([\n",
    "    [-5, 2, 4, -4], \n",
    "    [4, 9, -7, -5], \n",
    "    [0, -5, 6, 7], \n",
    "    [4, 8, -6, -6],\n",
    "]).astype(np.float64)\n",
    "B = np.array([[57], \n",
    "              [-23], \n",
    "              [23], \n",
    "              [-20]])\n",
    "print(A, '\\n\\n', B)"
   ]
  },
  {
   "cell_type": "code",
   "execution_count": 104,
   "metadata": {},
   "outputs": [
    {
     "name": "stdout",
     "output_type": "stream",
     "text": [
      "[[-5.  2.  4. -4.]\n",
      " [ 4.  9. -7. -5.]\n",
      " [ 0. -5.  6.  7.]\n",
      " [ 4.  8. -6. -6.]] \n",
      "\n",
      "[[-5.   2.   4.  -4. ]\n",
      " [ 0.  10.6 -3.8 -8.2]\n",
      " [ 0.  -5.   6.   7. ]\n",
      " [ 0.   9.6 -2.8 -9.2]]\n",
      "-5.0\n",
      "[[-5.          2.          4.         -4.        ]\n",
      " [ 0.         10.6        -3.8        -8.2       ]\n",
      " [ 0.          0.          4.20754717  3.13207547]\n",
      " [ 0.          0.          0.64150943 -1.77358491]]\n",
      "10.6\n",
      "[[-5.          2.          4.         -4.        ]\n",
      " [ 0.         10.6        -3.8        -8.2       ]\n",
      " [ 0.          0.          4.20754717  3.13207547]\n",
      " [ 0.          0.          0.         -2.25112108]]\n",
      "4.2075471698113205\n",
      "[[-5.          2.          4.         -4.        ]\n",
      " [ 0.         10.6        -3.8        -8.2       ]\n",
      " [ 0.          0.          4.20754717  3.13207547]\n",
      " [ 0.          0.          0.         -2.25112108]]\n",
      "-2.251121076233184\n"
     ]
    }
   ],
   "source": [
    "print(A, '\\n')\n",
    "for i in range(len(A)):\n",
    "    maximum = 0\n",
    "    max_el = -1\n",
    "    for j in range(i, len(A)):\n",
    "        if abs(A[j][i]) > maximum:\n",
    "            max_el = j\n",
    "            maximum = abs(A[j][i])\n",
    "    A[i], A[max_el] = A[max_el], A[i]\n",
    "    for j in range(i+1, len(A)):\n",
    "        k = -A[j][i]/A[i][i]\n",
    "        A[j] = (A[i]*k)+A[j]\n",
    "    print(A)\n",
    "    print(A[max_el][i])"
   ]
  },
  {
   "cell_type": "code",
   "execution_count": 105,
   "metadata": {},
   "outputs": [],
   "source": [
    "def gauss(A, B):\n",
    "    xs = np.zeros((4))\n",
    "    \n",
    "    for i in range(len(A)-1):\n",
    "        for j in range(i+1, len(A)):\n",
    "            k = -A[j][i]/A[i][i]\n",
    "            A[j] = (A[i]*k)+A[j]\n",
    "\n",
    "    for i in range(len(A)-1, -1, -1):\n",
    "        xs[i] = B[i][0]/A[i][i]\n",
    "        for j in range(len(A)):\n",
    "            A[j][i] = A[j][i]*xs[i]\n",
    "            B[j][0] = B[j][0] - A[j][i]\n",
    "    for i in range(len(xs)):\n",
    "        print('x', i+1, ' = ', xs[i], sep = '')\n",
    "    \n",
    "    return xs"
   ]
  },
  {
   "cell_type": "code",
   "execution_count": 101,
   "metadata": {},
   "outputs": [],
   "source": [
    "resA = A.copy()\n",
    "resB = B.copy()"
   ]
  },
  {
   "cell_type": "code",
   "execution_count": 102,
   "metadata": {},
   "outputs": [
    {
     "name": "stdout",
     "output_type": "stream",
     "text": [
      "x1 = -17.2\n",
      "x2 = 4.245283018867925\n",
      "x3 = -0.9506726457399104\n",
      "x4 = 8.884462151394422\n"
     ]
    }
   ],
   "source": [
    "res = gauss(resA, resB)"
   ]
  },
  {
   "cell_type": "code",
   "execution_count": null,
   "metadata": {},
   "outputs": [],
   "source": []
  }
 ],
 "metadata": {
  "kernelspec": {
   "display_name": "Python 3",
   "language": "python",
   "name": "python3"
  },
  "language_info": {
   "codemirror_mode": {
    "name": "ipython",
    "version": 3
   },
   "file_extension": ".py",
   "mimetype": "text/x-python",
   "name": "python",
   "nbconvert_exporter": "python",
   "pygments_lexer": "ipython3",
   "version": "3.6.8"
  }
 },
 "nbformat": 4,
 "nbformat_minor": 2
}
