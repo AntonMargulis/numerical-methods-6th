{
 "cells": [
  {
   "cell_type": "code",
   "execution_count": 2,
   "metadata": {},
   "outputs": [],
   "source": [
    "import numpy as np"
   ]
  },
  {
   "cell_type": "code",
   "execution_count": 3,
   "metadata": {},
   "outputs": [],
   "source": [
    "a = np.array(\n",
    "    [[6, 3, 0, 0, 0, 0], \n",
    "     [-9, -17, 3, 0, 0, -99], \n",
    "     [0, -3, 12, -7, 0, -107], \n",
    "     [0, 0, 2, -9, -6, 5], \n",
    "     [0, 0, 0, -4, 5, -6]\n",
    "    ]\n",
    ").astype(np.float64)"
   ]
  },
  {
   "cell_type": "code",
   "execution_count": 4,
   "metadata": {},
   "outputs": [],
   "source": [
    "def reverse_arr(z):\n",
    "    z.reverse()\n",
    "    return z"
   ]
  },
  {
   "cell_type": "code",
   "execution_count": 34,
   "metadata": {},
   "outputs": [],
   "source": [
    "def running_coef(x):\n",
    "    P = []\n",
    "    for i in range(len(x)):\n",
    "        if (i == 0):\n",
    "            P.append(-x[i][i + 1] / x[i][i])\n",
    "        elif (i == len(x) - 1):\n",
    "            P.append(0)\n",
    "        else:\n",
    "            P.append(-x[i][i + 1] / (x[i][i] + x[i][i - 1] * P[-1]))\n",
    "    Q = []\n",
    "    for i in range(len(x)):\n",
    "        if (i == 0):\n",
    "            Q.append(x[i][-1] / x[i][i])\n",
    "        else:\n",
    "            Q.append((x[i][-1] - x[i][i - 1] * Q[-1]) / (x[i][i] + x[i][i - 1] * P[i - 1]))\n",
    "    X = []\n",
    "    for i in range(len(x) - 1, -1, -1):\n",
    "        if (i == len(x) - 1):\n",
    "            X.append(Q[i])\n",
    "        else:\n",
    "            X.append(P[i] * X[-1] + Q[i])\n",
    "    reverse_arr(X)\n",
    "    print(P)\n",
    "    print(Q)\n",
    "    for i in range(len(X)):\n",
    "        print(\"x\", i + 1, \" = \", X[i], sep = \"\")\n",
    "    return X"
   ]
  },
  {
   "cell_type": "code",
   "execution_count": 35,
   "metadata": {},
   "outputs": [
    {
     "name": "stdout",
     "output_type": "stream",
     "text": [
      "[-0.5, 0.24, 0.6205673758865249, -0.773308957952468, 0]\n",
      "[0.0, 7.92, -7.379432624113476, -2.5466179159049367, -2.0000000000000004]\n",
      "x1 = -3.0\n",
      "x2 = 6.0\n",
      "x3 = -8.000000000000002\n",
      "x4 = -1.0000000000000002\n",
      "x5 = -2.0000000000000004\n"
     ]
    }
   ],
   "source": [
    "X = running_coef(a)"
   ]
  },
  {
   "cell_type": "code",
   "execution_count": 36,
   "metadata": {},
   "outputs": [
    {
     "data": {
      "text/plain": [
       "[-3.0, 6.0, -8.000000000000002, -1.0000000000000002, -2.0000000000000004]"
      ]
     },
     "execution_count": 36,
     "metadata": {},
     "output_type": "execute_result"
    }
   ],
   "source": [
    "X"
   ]
  },
  {
   "cell_type": "code",
   "execution_count": 37,
   "metadata": {},
   "outputs": [
    {
     "data": {
      "text/plain": [
       "array([[   6.,    3.,    0.,    0.,    0.,    0.],\n",
       "       [  -9.,  -17.,    3.,    0.,    0.,  -99.],\n",
       "       [   0.,   -3.,   12.,   -7.,    0., -107.],\n",
       "       [   0.,    0.,    2.,   -9.,   -6.,    5.],\n",
       "       [   0.,    0.,    0.,   -4.,    5.,   -6.]])"
      ]
     },
     "execution_count": 37,
     "metadata": {},
     "output_type": "execute_result"
    }
   ],
   "source": [
    "newA = a.copy()\n",
    "newA"
   ]
  },
  {
   "cell_type": "code",
   "execution_count": 38,
   "metadata": {},
   "outputs": [],
   "source": [
    "for i in range(len(newA)-1):\n",
    "    tmp = newA[i][i]\n",
    "    newA[i][i] = newA[i][i+1]\n",
    "    newA[i][i+1] = tmp"
   ]
  },
  {
   "cell_type": "code",
   "execution_count": 39,
   "metadata": {},
   "outputs": [
    {
     "data": {
      "text/plain": [
       "array([[   3.,    6.,    0.,    0.,    0.,    0.],\n",
       "       [  -9.,    3.,  -17.,    0.,    0.,  -99.],\n",
       "       [   0.,   -3.,   -7.,   12.,    0., -107.],\n",
       "       [   0.,    0.,    2.,   -6.,   -9.,    5.],\n",
       "       [   0.,    0.,    0.,   -4.,    5.,   -6.]])"
      ]
     },
     "execution_count": 39,
     "metadata": {},
     "output_type": "execute_result"
    }
   ],
   "source": [
    "newA"
   ]
  },
  {
   "cell_type": "code",
   "execution_count": 40,
   "metadata": {},
   "outputs": [
    {
     "name": "stdout",
     "output_type": "stream",
     "text": [
      "[-2.0, 0.8095238095238095, 1.2727272727272727, -2.6052631578947367, 0]\n",
      "[0.0, -4.714285714285714, 12.848484848484848, 5.991228070175438, 1.1649601820250284]\n",
      "x1 = -17.465301478953357\n",
      "x2 = 8.732650739476679\n",
      "x3 = 16.610921501706486\n",
      "x4 = 2.9562002275312858\n",
      "x5 = 1.1649601820250284\n"
     ]
    }
   ],
   "source": [
    "X1 = running_coef(newA)"
   ]
  },
  {
   "cell_type": "code",
   "execution_count": 25,
   "metadata": {},
   "outputs": [
    {
     "data": {
      "text/plain": [
       "[-17.465301478953357,\n",
       " 8.732650739476679,\n",
       " 16.610921501706486,\n",
       " 2.9562002275312858,\n",
       " 1.1649601820250284]"
      ]
     },
     "execution_count": 25,
     "metadata": {},
     "output_type": "execute_result"
    }
   ],
   "source": [
    "X1"
   ]
  },
  {
   "cell_type": "code",
   "execution_count": 31,
   "metadata": {},
   "outputs": [],
   "source": [
    "def check(A, Xs):\n",
    "    checkD = [0, 0, 0, 0, 0]\n",
    "    for i in range(len(A)):\n",
    "        for j in range(len(A)):\n",
    "            checkD[i] = checkD[i] + round(Xs[j]*A[i][j], 0)\n",
    "    print(checkD)"
   ]
  },
  {
   "cell_type": "code",
   "execution_count": 32,
   "metadata": {},
   "outputs": [
    {
     "name": "stdout",
     "output_type": "stream",
     "text": [
      "[0.0, -99.0, -107.0, 5.0, -6.0]\n"
     ]
    }
   ],
   "source": [
    "check(a, X)"
   ]
  },
  {
   "cell_type": "code",
   "execution_count": 33,
   "metadata": {},
   "outputs": [
    {
     "name": "stdout",
     "output_type": "stream",
     "text": [
      "[0.0, -99.0, -107.0, 5.0, -6.0]\n"
     ]
    }
   ],
   "source": [
    "check(newA, X1)"
   ]
  },
  {
   "cell_type": "code",
   "execution_count": null,
   "metadata": {},
   "outputs": [],
   "source": []
  }
 ],
 "metadata": {
  "kernelspec": {
   "display_name": "Python 3",
   "language": "python",
   "name": "python3"
  },
  "language_info": {
   "codemirror_mode": {
    "name": "ipython",
    "version": 3
   },
   "file_extension": ".py",
   "mimetype": "text/x-python",
   "name": "python",
   "nbconvert_exporter": "python",
   "pygments_lexer": "ipython3",
   "version": "3.6.8"
  }
 },
 "nbformat": 4,
 "nbformat_minor": 2
}
